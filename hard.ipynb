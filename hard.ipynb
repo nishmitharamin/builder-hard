{
 "cells": [
  {
   "cell_type": "code",
   "execution_count": 5,
   "id": "6e6bacc5",
   "metadata": {},
   "outputs": [],
   "source": [
    "def shortest_palindrome(s):\n",
    "    def is_palindrome(sub):\n",
    "        return sub == sub[::-1]\n",
    "    n = len(s)\n",
    "    for i in range(n - 1, -1, -1):\n",
    "        if is_palindrome(s[:i + 1]):\n",
    "            return s[i + 1:][::-1] + s\n",
    "    return s"
   ]
  },
  {
   "cell_type": "code",
   "execution_count": 6,
   "id": "66a3130f",
   "metadata": {},
   "outputs": [
    {
     "name": "stdout",
     "output_type": "stream",
     "text": [
      "aaacecaaa\n"
     ]
    }
   ],
   "source": [
    "# Example 1\n",
    "s1 = \"aacecaaa\"\n",
    "print(shortest_palindrome(s1)) "
   ]
  },
  {
   "cell_type": "code",
   "execution_count": 7,
   "id": "c039c491",
   "metadata": {},
   "outputs": [
    {
     "name": "stdout",
     "output_type": "stream",
     "text": [
      "dcbabcd\n"
     ]
    }
   ],
   "source": [
    "# Example 2\n",
    "s2 = \"abcd\"\n",
    "print(shortest_palindrome(s2)) "
   ]
  },
  {
   "cell_type": "code",
   "execution_count": null,
   "id": "41529c17",
   "metadata": {},
   "outputs": [],
   "source": []
  }
 ],
 "metadata": {
  "kernelspec": {
   "display_name": "Python 3 (ipykernel)",
   "language": "python",
   "name": "python3"
  },
  "language_info": {
   "codemirror_mode": {
    "name": "ipython",
    "version": 3
   },
   "file_extension": ".py",
   "mimetype": "text/x-python",
   "name": "python",
   "nbconvert_exporter": "python",
   "pygments_lexer": "ipython3",
   "version": "3.9.13"
  }
 },
 "nbformat": 4,
 "nbformat_minor": 5
}
